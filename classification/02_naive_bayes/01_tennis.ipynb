{
 "cells": [
  {
   "cell_type": "code",
   "execution_count": 9,
   "metadata": {},
   "outputs": [],
   "source": [
    "outlook=['sunny','sunny','overcast','rainy','rainy','rainy',\n",
    "         'overcast','sunny','sunny','rainy','sunny',\n",
    "         'overcast','overcast','rainy']  \n",
    "temperature=['hot','hot','hot','mild','cool','cool','cool','mild',\n",
    "             'cool','mild','mild','mild','hot','mild']\n",
    "humidity=['high','high','high','high','normal','normal',\n",
    "          'normal','high','normal','normal','normal','high','normal','high']\n",
    "\n",
    "wind=['weak','strong','weak','weak','weak','strong','strong','weak',\n",
    "      'weak','weak','strong','strong','weak','strong']\n",
    "\n",
    "play=['no','no','yes','yes','yes','no','yes','no','yes','yes',\n",
    "      'yes','yes','yes','no']"
   ]
  },
  {
   "cell_type": "markdown",
   "metadata": {},
   "source": [
    "## Encoding\n",
    "\n",
    "### 3 Types of Encoding:\n",
    "\n",
    "1. **Label Encoding**  \n",
    "   Label encoding is used to convert categorical values into numerical values by assigning a unique integer to each category.\n",
    "\n",
    "2. **OneHot Encoding**  \n",
    "   OneHot encoding converts categorical data into binary vectors, where each category is represented by a column with a 1 or 0 indicating the presence of that category.\n",
    "\n",
    "3. **get_dummies**  \n",
    "   `get_dummies` is a function in pandas used to convert categorical variables into dummy/indicator variables, similar to OneHot Encoding but using pandas' functionality.\n"
   ]
  },
  {
   "cell_type": "code",
   "execution_count": 10,
   "metadata": {},
   "outputs": [
    {
     "data": {
      "text/plain": [
       "array([2, 2, 0, 1, 1, 1, 0, 2, 2, 1, 2, 0, 0, 1])"
      ]
     },
     "execution_count": 10,
     "metadata": {},
     "output_type": "execute_result"
    }
   ],
   "source": [
    "#Label Encoding : Converts categorical values into numerical labels (e.g., [\"Red\", \"Blue\", \"Green\"] → [0, 1, 2])\n",
    "#In most cases , labels with high count gets heigher number\n",
    "from sklearn.preprocessing import LabelEncoder\n",
    "label=LabelEncoder()\n",
    "outlook_encoder=label.fit_transform(outlook)\n",
    "outlook_encoder"
   ]
  },
  {
   "cell_type": "code",
   "execution_count": 11,
   "metadata": {},
   "outputs": [
    {
     "data": {
      "text/plain": [
       "array([1, 1, 1, 2, 0, 0, 0, 2, 0, 2, 2, 2, 1, 2])"
      ]
     },
     "execution_count": 11,
     "metadata": {},
     "output_type": "execute_result"
    }
   ],
   "source": [
    "temperature_encoder=label.fit_transform(temperature)\n",
    "temperature_encoder"
   ]
  },
  {
   "cell_type": "code",
   "execution_count": 12,
   "metadata": {},
   "outputs": [
    {
     "data": {
      "text/plain": [
       "array([0, 0, 0, 0, 1, 1, 1, 0, 1, 1, 1, 0, 1, 0])"
      ]
     },
     "execution_count": 12,
     "metadata": {},
     "output_type": "execute_result"
    }
   ],
   "source": [
    "humidity_encoder=label.fit_transform(humidity)\n",
    "humidity_encoder"
   ]
  },
  {
   "cell_type": "code",
   "execution_count": 13,
   "metadata": {},
   "outputs": [
    {
     "data": {
      "text/plain": [
       "array([1, 0, 1, 1, 1, 0, 0, 1, 1, 1, 0, 0, 1, 0])"
      ]
     },
     "execution_count": 13,
     "metadata": {},
     "output_type": "execute_result"
    }
   ],
   "source": [
    "wind_encoder=label.fit_transform(wind)\n",
    "wind_encoder"
   ]
  },
  {
   "cell_type": "code",
   "execution_count": 14,
   "metadata": {},
   "outputs": [
    {
     "data": {
      "text/plain": [
       "[(np.int64(2), np.int64(1), np.int64(0), np.int64(1)),\n",
       " (np.int64(2), np.int64(1), np.int64(0), np.int64(0)),\n",
       " (np.int64(0), np.int64(1), np.int64(0), np.int64(1)),\n",
       " (np.int64(1), np.int64(2), np.int64(0), np.int64(1)),\n",
       " (np.int64(1), np.int64(0), np.int64(1), np.int64(1)),\n",
       " (np.int64(1), np.int64(0), np.int64(1), np.int64(0)),\n",
       " (np.int64(0), np.int64(0), np.int64(1), np.int64(0)),\n",
       " (np.int64(2), np.int64(2), np.int64(0), np.int64(1)),\n",
       " (np.int64(2), np.int64(0), np.int64(1), np.int64(1)),\n",
       " (np.int64(1), np.int64(2), np.int64(1), np.int64(1)),\n",
       " (np.int64(2), np.int64(2), np.int64(1), np.int64(0)),\n",
       " (np.int64(0), np.int64(2), np.int64(0), np.int64(0)),\n",
       " (np.int64(0), np.int64(1), np.int64(1), np.int64(1)),\n",
       " (np.int64(1), np.int64(2), np.int64(0), np.int64(0))]"
      ]
     },
     "execution_count": 14,
     "metadata": {},
     "output_type": "execute_result"
    }
   ],
   "source": [
    "features=list(zip(outlook_encoder,temperature_encoder,humidity_encoder,wind_encoder))\n",
    "features"
   ]
  },
  {
   "cell_type": "markdown",
   "metadata": {},
   "source": [
    "## Model Creation\n",
    "\n",
    "### 3 Types of Classifiers:\n",
    "\n",
    "1. **Gaussian Naive Bayes**  \n",
    "   Used for continuous/numerical data, assuming that the data follows a Gaussian (normal) distribution.\n",
    "\n",
    "2. **Multinomial Naive Bayes**  \n",
    "   Used for discrete (categorical or object) data, especially for classification problems where features are counts or frequencies (e.g., text classification).\n",
    "\n",
    "3. **Bernoulli Naive Bayes**  \n",
    "   Used for binary/boolean data, where features are binary (e.g., 0 or 1, True or False).\n"
   ]
  },
  {
   "cell_type": "code",
   "execution_count": 15,
   "metadata": {},
   "outputs": [
    {
     "name": "stdout",
     "output_type": "stream",
     "text": [
      "['no']\n"
     ]
    }
   ],
   "source": [
    "from sklearn.naive_bayes import MultinomialNB\n",
    "model=MultinomialNB()\n",
    "model.fit(features,play)\n",
    "print(model.predict([[2,0,0,0]]))"
   ]
  }
 ],
 "metadata": {
  "kernelspec": {
   "display_name": "Python 3",
   "language": "python",
   "name": "python3"
  },
  "language_info": {
   "codemirror_mode": {
    "name": "ipython",
    "version": 3
   },
   "file_extension": ".py",
   "mimetype": "text/x-python",
   "name": "python",
   "nbconvert_exporter": "python",
   "pygments_lexer": "ipython3",
   "version": "3.13.0"
  }
 },
 "nbformat": 4,
 "nbformat_minor": 2
}
